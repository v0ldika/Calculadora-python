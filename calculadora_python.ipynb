{
  "cells": [
    {
      "cell_type": "code",
      "source": [
        "while True :\n",
        "  valor1 = float(input(\"qual o primeiro valor ? \\n\"))\n",
        "  valor2 = float(input(\"qual o seegundo valor ?\\n\", ))\n",
        "  operacao = input(f\"qual operacao voce deseja fazeer (+ , - , * ou /) \\n\")\n",
        "  if operacao == \"+\" :\n",
        "    print(valor1 + valor2)\n",
        "  elif operacao == \"-\" :\n",
        "    print(valor1 - valor2)\n",
        "  elif operacao == \"*\" :\n",
        "    print(valor1 * valor2)\n",
        "  elif operacao == \"/\" :\n",
        "    print(valor1 / valor2)\n",
        "  else :\n",
        "    print(\"operacao invalida\")\n",
        "\n",
        "  continuar = input(\"deseja continuar ? (s/n) \\n\")\n",
        "  if continuar == \"n\" :\n",
        "      break"
      ],
      "metadata": {
        "id": "L-cCvY_kqetY",
        "colab": {
          "base_uri": "https://localhost:8080/"
        },
        "outputId": "bfc3331e-8728-4723-fda1-fa6f0d65bbc7"
      },
      "execution_count": 1,
      "outputs": [
        {
          "name": "stdout",
          "output_type": "stream",
          "text": [
            "qual o primeiro valor ? \n",
            "1\n",
            "qual o seegundo valor ?\n",
            "2\n",
            "qual operacao voce deseja fazeer (+ , - , * ou /) \n",
            "-\n",
            "-1.0\n",
            "deseja continuar ? (s/n) \n",
            "n\n"
          ]
        }
      ]
    }
  ],
  "metadata": {
    "colab": {
      "provenance": []
    },
    "kernelspec": {
      "display_name": "Python 3",
      "name": "python3"
    },
    "language_info": {
      "name": "python"
    }
  },
  "nbformat": 4,
  "nbformat_minor": 0
}